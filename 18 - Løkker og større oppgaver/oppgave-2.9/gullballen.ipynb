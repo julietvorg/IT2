{
 "cells": [
  {
   "cell_type": "code",
   "execution_count": 15,
   "metadata": {},
   "outputs": [],
   "source": [
    "import json\n",
    "\n",
    "fil = open(\"gullballen.json\", encoding =\"utf-8\")\n",
    "gullballen = json.load(fil)\n",
    "fil.close()\n"
   ]
  },
  {
   "cell_type": "code",
   "execution_count": 16,
   "metadata": {},
   "outputs": [
    {
     "data": {
      "text/plain": [
       "{'navn': 'Luís Figo',\n",
       " 'år': [2000],\n",
       " 'nasjonalitet': 'Portugal',\n",
       " 'klubber': ['Real Madrid']}"
      ]
     },
     "execution_count": 16,
     "metadata": {},
     "output_type": "execute_result"
    }
   ],
   "source": [
    "gullballen[0]"
   ]
  },
  {
   "cell_type": "code",
   "execution_count": 19,
   "metadata": {},
   "outputs": [
    {
     "name": "stdout",
     "output_type": "stream",
     "text": [
      "Navn: Luís Figo, Nasjonalitet: Portugal, Antall Gullballer: 1\n",
      "Navn: Michael Owen, Nasjonalitet: England, Antall Gullballer: 1\n",
      "Navn: Ronaldo, Nasjonalitet: Brasil, Antall Gullballer: 1\n",
      "Navn: Pavel Nedvěd, Nasjonalitet: Tsjekkia, Antall Gullballer: 1\n",
      "Navn: Andriy Shevchenko, Nasjonalitet: Ukraina, Antall Gullballer: 1\n",
      "Navn: Ronaldinho, Nasjonalitet: Brasil, Antall Gullballer: 1\n",
      "Navn: Fabio Cannavaro, Nasjonalitet: Italia, Antall Gullballer: 1\n",
      "Navn: Kaká, Nasjonalitet: Brasil, Antall Gullballer: 1\n",
      "Navn: Cristiano Ronaldo, Nasjonalitet: Portugal, Antall Gullballer: 5\n",
      "Navn: Lionel Messi, Nasjonalitet: Argentina, Antall Gullballer: 8\n",
      "Navn: Luka Modric, Nasjonalitet: Kroatia, Antall Gullballer: 1\n",
      "Navn: Karim Benzema, Nasjonalitet: Frankrike, Antall Gullballer: 1\n"
     ]
    }
   ],
   "source": [
    "for spiller in gullballen:\n",
    "    print(f\"Navn: {spiller['navn']}, Nasjonalitet: {spiller['nasjonalitet']}, Antall Gullballer: {len(spiller['år'])}\")"
   ]
  }
 ],
 "metadata": {
  "kernelspec": {
   "display_name": "Python 3.8.8 ('base')",
   "language": "python",
   "name": "python3"
  },
  "language_info": {
   "codemirror_mode": {
    "name": "ipython",
    "version": 3
   },
   "file_extension": ".py",
   "mimetype": "text/x-python",
   "name": "python",
   "nbconvert_exporter": "python",
   "pygments_lexer": "ipython3",
   "version": "3.8.8"
  },
  "orig_nbformat": 4,
  "vscode": {
   "interpreter": {
    "hash": "5ecbbed35457983b10cea6cb5f29896399aa2d19dc836c68fdc5865faadf66b5"
   }
  }
 },
 "nbformat": 4,
 "nbformat_minor": 2
}
