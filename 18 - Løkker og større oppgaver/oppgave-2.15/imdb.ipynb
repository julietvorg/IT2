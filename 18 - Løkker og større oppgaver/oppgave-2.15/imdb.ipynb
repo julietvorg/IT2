{
 "cells": [
  {
   "cell_type": "code",
   "execution_count": 8,
   "metadata": {},
   "outputs": [],
   "source": [
    "# Oppgave 2.15 - IMDB\n",
    "\n",
    "# 1. Hvilken film ligger øverst på listen og hvem har regissert den?\n",
    "# 2. Hva er gjennomsnittskarakteren til alle filmene på listen?\n",
    "# 3. Hva er gjennomsnittskarakteren til de ti første filmene?\n",
    "# 4. Hvilken regissør har regissert flest filmer på listen?\n",
    "  # - For hver film er regisørrer en liste. Her holder det med første regissør i listen.\n",
    "# Bonus: Alle regisørrene i regissørlistene skal telles med."
   ]
  },
  {
   "cell_type": "code",
   "execution_count": 3,
   "metadata": {},
   "outputs": [],
   "source": [
    "# Filinnlesing\n",
    "import json\n",
    "\n",
    "fil = open(\"imdb.json\", encoding =\"utf-8\")\n",
    "filmer = json.load(fil)\n",
    "fil.close()\n",
    "\n"
   ]
  },
  {
   "cell_type": "code",
   "execution_count": 5,
   "metadata": {},
   "outputs": [
    {
     "data": {
      "text/plain": [
       "{'navn': 'Yôjinbô',\n",
       " 'bilde': 'https://m.media-amazon.com/images/M/MV5BZThiZjAzZjgtNDU3MC00YThhLThjYWUtZGRkYjc2ZWZlOTVjXkEyXkFqcGdeQXVyNTA4NzY1MzY@._V1_.jpg',\n",
       " 'sjangere': ['Action', 'Drama', 'Thriller'],\n",
       " 'url': 'https://www.imdb.com//title/tt0055630/',\n",
       " 'beskrivelse': 'A crafty ronin comes to a town divided by two criminal gangs and decides to play them against each other to free the town.',\n",
       " 'dato': '1961-09-13',\n",
       " 'regissører': ['Akira Kurosawa'],\n",
       " 'trailer': 'https://www.imdb.com/video/imdb/vi1659814169/imdb/embed?autoplay=false&width=640',\n",
       " 'karakter': 8.2}"
      ]
     },
     "execution_count": 5,
     "metadata": {},
     "output_type": "execute_result"
    }
   ],
   "source": [
    "filmer[0]"
   ]
  },
  {
   "cell_type": "code",
   "execution_count": 6,
   "metadata": {},
   "outputs": [
    {
     "ename": "SyntaxError",
     "evalue": "f-string: expecting '}' (<ipython-input-6-da8ab6b10c58>, line 3)",
     "output_type": "error",
     "traceback": [
      "\u001b[0;36m  File \u001b[0;32m\"<ipython-input-6-da8ab6b10c58>\"\u001b[0;36m, line \u001b[0;32m3\u001b[0m\n\u001b[0;31m    print(f\"Filmen som ligger øverst er {filmer[0]['navn']} som er regissert av {filmer[0]\")\u001b[0m\n\u001b[0m          ^\u001b[0m\n\u001b[0;31mSyntaxError\u001b[0m\u001b[0;31m:\u001b[0m f-string: expecting '}'\n"
     ]
    }
   ],
   "source": [
    "# 1. Hvilken film ligger øverst på listen og hvem har regissert den?\n",
    "# a. Hvis oppgaven mener den filmen som ligger øverst i json-fila.\n",
    "print(f\"Filmen som ligger øverst er {filmer[0]['navn']} som er regissert av {filmer[0]\"\n",
    "\n",
    "# b. Hvis oppgaven mener den filmen med høyest karakter.\n"
   ]
  },
  {
   "cell_type": "code",
   "execution_count": 7,
   "metadata": {},
   "outputs": [
    {
     "name": "stdout",
     "output_type": "stream",
     "text": [
      "Gjennomsnittskarakteren til filmen er 8.32199999999999\n"
     ]
    }
   ],
   "source": [
    "#  2. Hva er gjennomsnittskarakteren til alle filmene på listen?\n",
    "total_karakter = 0\n",
    "for film in filmer:\n",
    "    total_karakter += film ['karakter']\n",
    "snittkarakter = total_karakter / len(filmer)\n",
    "print (f\"Gjennomsnittskarakteren til filmen er {snittkarakter}\")"
   ]
  },
  {
   "cell_type": "code",
   "execution_count": 13,
   "metadata": {},
   "outputs": [
    {
     "name": "stdout",
     "output_type": "stream",
     "text": [
      "9.02\n"
     ]
    }
   ],
   "source": [
    "# 3. Hva er gjennomsnittskarakteren til de ti første filmene?\n",
    "filmer_sortert = sorted(filmer, key=lambda film:film['karakter'], reverse=True)\n",
    "ti_første = filmer_sortert[:10]\n",
    "total_karakter_ti_første = 0\n",
    "for film in ti_første:\n",
    "    total_karakter_ti_første += film['karakter']\n",
    "snittkarakter_ti_første = total_karakter_ti_første / len(ti_første)\n",
    "print(snittkarakter_ti_første)"
   ]
  }
 ],
 "metadata": {
  "kernelspec": {
   "display_name": "Python 3.8.8 ('base')",
   "language": "python",
   "name": "python3"
  },
  "language_info": {
   "codemirror_mode": {
    "name": "ipython",
    "version": 3
   },
   "file_extension": ".py",
   "mimetype": "text/x-python",
   "name": "python",
   "nbconvert_exporter": "python",
   "pygments_lexer": "ipython3",
   "version": "3.8.8"
  },
  "orig_nbformat": 4,
  "vscode": {
   "interpreter": {
    "hash": "5ecbbed35457983b10cea6cb5f29896399aa2d19dc836c68fdc5865faadf66b5"
   }
  }
 },
 "nbformat": 4,
 "nbformat_minor": 2
}
