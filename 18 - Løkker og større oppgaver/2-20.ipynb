{
 "cells": [
  {
   "cell_type": "code",
   "execution_count": 1,
   "metadata": {},
   "outputs": [],
   "source": [
    "import json\n",
    "\n",
    "# Åpne og leser JSON-filen\n",
    "with open('twitter_data.json', 'r') as file:\n",
    "    data = json.load(file)"
   ]
  },
  {
   "cell_type": "code",
   "execution_count": 2,
   "metadata": {},
   "outputs": [
    {
     "name": "stdout",
     "output_type": "stream",
     "text": [
      "De ti brukerne med flest følgere:\n",
      "elonmusk: 180483638\n",
      "BarackObama: 131876712\n",
      "Cristiano: 111007811\n",
      "justinbieber: 110939914\n",
      "rihanna: 107958168\n",
      "katyperry: 106547420\n",
      "narendramodi: 97228794\n",
      "taylorswift13: 95267900\n",
      "realDonaldTrump: 87352378\n",
      "ArianaGrande: 85268269\n"
     ]
    }
   ],
   "source": [
    "# Sorter brukerne basert på antall følgere i synkende rekkefølge\n",
    "sorted_users = sorted(data, key=lambda x: x['followers'], reverse=True)\n",
    "\n",
    "# Velg de ti øverste brukerne med flest følgere\n",
    "top_10_users = sorted_users[:10]\n",
    "\n",
    "# Skriv ut de ti brukerne med flest følgere\n",
    "print(\"De ti brukerne med flest følgere:\")\n",
    "for user in top_10_users:\n",
    "    print(f\"{user['username']}: {user['followers']}\")\n"
   ]
  },
  {
   "cell_type": "code",
   "execution_count": 3,
   "metadata": {},
   "outputs": [
    {
     "name": "stdout",
     "output_type": "stream",
     "text": [
      "Brukernavn, antall tweets og antall følgere for de ti brukerne med flest følgere:\n",
      "elonmusk: Tweets - 42318, Followers - 180483638\n",
      "BarackObama: Tweets - 17016, Followers - 131876712\n",
      "Cristiano: Tweets - 4061, Followers - 111007811\n",
      "justinbieber: Tweets - 31176, Followers - 110939914\n",
      "rihanna: Tweets - 10718, Followers - 107958168\n",
      "katyperry: Tweets - 11990, Followers - 106547420\n",
      "narendramodi: Tweets - 41209, Followers - 97228794\n",
      "taylorswift13: Tweets - 828, Followers - 95267900\n",
      "realDonaldTrump: Tweets - 59120, Followers - 87352378\n",
      "ArianaGrande: Tweets - 47154, Followers - 85268269\n"
     ]
    }
   ],
   "source": [
    "# Sorter brukerne basert på antall følgere i synkende rekkefølge\n",
    "sorted_users = sorted(data, key=lambda x: x['followers'], reverse=True)\n",
    "\n",
    "# Velg de ti øverste brukerne med flest følgere\n",
    "top_10_users = sorted_users[:10]\n",
    "\n",
    "# Skriv ut brukernavn, antall tweets og antall følgere for de ti øverste brukerne\n",
    "print(\"Brukernavn, antall tweets og antall følgere for de ti brukerne med flest følgere:\")\n",
    "for user in top_10_users:\n",
    "    print(f\"{user['username']}: Tweets - {user['tweets']}, Followers - {user['followers']}\")"
   ]
  },
  {
   "cell_type": "code",
   "execution_count": 4,
   "metadata": {},
   "outputs": [
    {
     "name": "stdout",
     "output_type": "stream",
     "text": [
      "Brukernavn og følgere/følger-ratio for de ti brukerne med flest følgere:\n",
      "elonmusk: Følgere/Følger-ratio - 314431.425087108\n",
      "BarackObama: Følgere/Følger-ratio - 242.85792788479245\n",
      "Cristiano: Følgere/Følger-ratio - 1608808.8550724639\n",
      "justinbieber: Følgere/Følger-ratio - 404.6967106967107\n",
      "rihanna: Følgere/Følger-ratio - 111411.93808049535\n",
      "katyperry: Følgere/Følger-ratio - 442105.47717842326\n",
      "narendramodi: Følgere/Følger-ratio - 36511.000375516334\n",
      "taylorswift13: Følgere/Følger-ratio - Infinite\n",
      "realDonaldTrump: Følgere/Følger-ratio - 1712791.7254901961\n",
      "ArianaGrande: Følgere/Følger-ratio - 1536.5313187011209\n"
     ]
    }
   ],
   "source": [
    "# Sorter brukerne basert på antall følgere i synkende rekkefølge\n",
    "sorted_users = sorted(data, key=lambda x: x['followers'], reverse=True)\n",
    "\n",
    "# Velg de ti øverste brukerne med flest følgere\n",
    "top_10_users = sorted_users[:10]\n",
    "\n",
    "# Skriv ut brukernavn og følgere/følger-ratio for de ti øverste brukerne\n",
    "print(\"Brukernavn og følgere/følger-ratio for de ti brukerne med flest følgere:\")\n",
    "for user in top_10_users:\n",
    "    ratio = user['followers'] / user['following'] if user['following'] != 0 else \"Infinite\"\n",
    "    print(f\"{user['username']}: Følgere/Følger-ratio - {ratio}\")"
   ]
  }
 ],
 "metadata": {
  "kernelspec": {
   "display_name": "Python 3.8.8 ('base')",
   "language": "python",
   "name": "python3"
  },
  "language_info": {
   "codemirror_mode": {
    "name": "ipython",
    "version": 3
   },
   "file_extension": ".py",
   "mimetype": "text/x-python",
   "name": "python",
   "nbconvert_exporter": "python",
   "pygments_lexer": "ipython3",
   "version": "3.8.8"
  },
  "orig_nbformat": 4,
  "vscode": {
   "interpreter": {
    "hash": "5ecbbed35457983b10cea6cb5f29896399aa2d19dc836c68fdc5865faadf66b5"
   }
  }
 },
 "nbformat": 4,
 "nbformat_minor": 2
}
