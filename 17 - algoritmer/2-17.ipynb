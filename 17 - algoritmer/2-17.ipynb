{
 "cells": [
  {
   "cell_type": "code",
   "execution_count": 1,
   "metadata": {},
   "outputs": [],
   "source": [
    "import json\n",
    " \n",
    "fil = open(\"imdb_top250.json\", encoding=\"utf-8\")\n",
    "filmer = json.load(fil)\n",
    "fil.close()"
   ]
  },
  {
   "cell_type": "code",
   "execution_count": 2,
   "metadata": {},
   "outputs": [
    {
     "name": "stdout",
     "output_type": "stream",
     "text": [
      "Filmen med høyest karakter er The Shawshank Redemption\n"
     ]
    }
   ],
   "source": [
    "# Oppgave 1\n",
    "\n",
    "høyest = filmer[0]\n",
    "for film in filmer:\n",
    "    if film[\"karakter\"] > høyest[\"karakter\"]:\n",
    "        høyest = film\n",
    "print(f\"Filmen med høyest karakter er {høyest['navn']}\")"
   ]
  },
  {
   "cell_type": "code",
   "execution_count": 3,
   "metadata": {},
   "outputs": [
    {
     "name": "stdout",
     "output_type": "stream",
     "text": [
      "Gjennomsnittskarakteren til filmene er 8.32199999999999\n"
     ]
    }
   ],
   "source": [
    "# Oppgave 2\n",
    "\n",
    "total_karakter = 0\n",
    "for film in filmer:\n",
    "    total_karakter += film['karakter']\n",
    "snittkarakter = total_karakter / len(filmer)\n",
    "print(f\"Gjennomsnittskarakteren til filmene er {snittkarakter}\")"
   ]
  },
  {
   "cell_type": "code",
   "execution_count": 6,
   "metadata": {},
   "outputs": [
    {
     "name": "stdout",
     "output_type": "stream",
     "text": [
      "Gjennomsnittskarakteren til de ti første filmene er 9.02\n"
     ]
    }
   ],
   "source": [
    "# Oppgave 3\n",
    "\n",
    "filmer_sortert = sorted(filmer, key=lambda film:film['karakter'], reverse=True) # sorterer listen i stigende rekkefølge etter karakter.\n",
    "ti_første = filmer_sortert[:10] # lager en ny liste som inneholder de ti første filmene\n",
    "total_karakter_ti_første = 0\n",
    "for film in ti_første:\n",
    "    total_karakter_ti_første += film['karakter']\n",
    "snittkarakter_ti_første = total_karakter_ti_første / len(ti_første)\n",
    "print(f\"Gjennomsnittskarakteren til de ti første filmene er {snittkarakter_ti_første}\")"
   ]
  },
  {
   "cell_type": "code",
   "execution_count": 5,
   "metadata": {},
   "outputs": [
    {
     "name": "stdout",
     "output_type": "stream",
     "text": [
      "Regissøren med flest filmer på listen er Akira Kurosawa med 7 filmer\n",
      "1: Akira Kurosawa - 7 filmer\n",
      "2: Martin Scorsese - 7 filmer\n",
      "3: Stanley Kubrick - 7 filmer\n",
      "4: Christopher Nolan - 7 filmer\n",
      "5: Steven Spielberg - 7 filmer\n",
      "6: Alfred Hitchcock - 6 filmer\n"
     ]
    }
   ],
   "source": [
    "# Oppgave 4\n",
    "\n",
    "regissører_antall = {}\n",
    "for film in filmer:\n",
    "    for regissør in film['regissører']:\n",
    "        if regissør in regissører_antall:\n",
    "            regissører_antall[regissør] += 1\n",
    "        else:\n",
    "            regissører_antall[regissør] = 1\n",
    " \n",
    "regissører_sortert = sorted(regissører_antall.items(), key=lambda regissør: regissør[1], reverse=True)\n",
    "print(f\"Regissøren med flest filmer på listen er {regissører_sortert[0][0]} med {regissører_sortert[0][1]} filmer\")\n",
    "\n",
    "for i in range(6):\n",
    "    print(f\"{i + 1}: {regissører_sortert[i][0]} - {regissører_sortert[i][1]} filmer\")"
   ]
  }
 ],
 "metadata": {
  "kernelspec": {
   "display_name": "Python 3.8.8 ('base')",
   "language": "python",
   "name": "python3"
  },
  "language_info": {
   "codemirror_mode": {
    "name": "ipython",
    "version": 3
   },
   "file_extension": ".py",
   "mimetype": "text/x-python",
   "name": "python",
   "nbconvert_exporter": "python",
   "pygments_lexer": "ipython3",
   "version": "3.8.8"
  },
  "orig_nbformat": 4,
  "vscode": {
   "interpreter": {
    "hash": "5ecbbed35457983b10cea6cb5f29896399aa2d19dc836c68fdc5865faadf66b5"
   }
  }
 },
 "nbformat": 4,
 "nbformat_minor": 2
}
