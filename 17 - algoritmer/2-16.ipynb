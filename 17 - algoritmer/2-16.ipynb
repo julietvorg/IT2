{
 "cells": [
  {
   "cell_type": "code",
   "execution_count": 12,
   "metadata": {},
   "outputs": [],
   "source": [
    "import json\n",
    "with open(\"spotify-weekly-top-songs-global-uke2-2023.json\") as fil:\n",
    "    sanger = json.load(fil)"
   ]
  },
  {
   "cell_type": "code",
   "execution_count": 13,
   "metadata": {},
   "outputs": [
    {
     "name": "stdout",
     "output_type": "stream",
     "text": [
      "{'navn': 'Believer', 'artist': 'Imagine Dragons', 'bilde_url': 'https://i.scdn.co/image/ab67616d00001e025675e83f707f1d7271e5cf8a', 'plassering': 173, 'forrige_plassering': 173, 'topplassering': 16, 'topp_dato': '2017-06-29', 'uker_paa_listen': 358, 'antall_streams': 8322500}\n"
     ]
    }
   ],
   "source": [
    "# Oppgave 1\n",
    "\n",
    "flest = sanger[0]\n",
    "for sang in sanger:\n",
    "    if sang[\"uker_paa_listen\"] > flest[\"uker_paa_listen\"]:\n",
    "        flest = sang\n",
    "print(flest)"
   ]
  },
  {
   "cell_type": "code",
   "execution_count": 14,
   "metadata": {},
   "outputs": [
    {
     "name": "stdout",
     "output_type": "stream",
     "text": [
      "Taylor Swift har totalt 120017297 antall streams på sangene hennes som ligger på topplista.\n"
     ]
    }
   ],
   "source": [
    "# Oppgave 2\n",
    "\n",
    "total = 0\n",
    "for sang in sanger:\n",
    "    if sang[\"artist\"] == \"Taylor Swift\":\n",
    "        total += sang[\"antall_streams\"]\n",
    "print(f\"Taylor Swift har totalt {total} antall streams på sangene hennes som ligger på topplista.\")"
   ]
  },
  {
   "cell_type": "code",
   "execution_count": 16,
   "metadata": {},
   "outputs": [
    {
     "name": "stdout",
     "output_type": "stream",
     "text": [
      "La Diabla gikk opp flest plasseringer\n"
     ]
    }
   ],
   "source": [
    "# Oppgave 3\n",
    "\n",
    "sang_størst_endring = sanger[0]\n",
    "størst_endring = sang_størst_endring[\"plassering\"] - sang_størst_endring[\"forrige_plassering\"]\n",
    "for sang in sanger:\n",
    "    if sang[\"forrige_plassering\"] != -1:\n",
    "        endring = sang[\"plassering\"] - sang[\"forrige_plassering\"]\n",
    "        if endring > størst_endring:\n",
    "            sang_størst_endring = sang\n",
    "            størst_endring = endring\n",
    " \n",
    "print(f\"{sang_størst_endring['navn']} gikk opp flest plasseringer\")"
   ]
  }
 ],
 "metadata": {
  "kernelspec": {
   "display_name": "Python 3.8.8 ('base')",
   "language": "python",
   "name": "python3"
  },
  "language_info": {
   "codemirror_mode": {
    "name": "ipython",
    "version": 3
   },
   "file_extension": ".py",
   "mimetype": "text/x-python",
   "name": "python",
   "nbconvert_exporter": "python",
   "pygments_lexer": "ipython3",
   "version": "3.8.8"
  },
  "orig_nbformat": 4,
  "vscode": {
   "interpreter": {
    "hash": "5ecbbed35457983b10cea6cb5f29896399aa2d19dc836c68fdc5865faadf66b5"
   }
  }
 },
 "nbformat": 4,
 "nbformat_minor": 2
}
