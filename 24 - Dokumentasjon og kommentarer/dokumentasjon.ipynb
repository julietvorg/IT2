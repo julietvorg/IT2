{
 "cells": [
  {
   "cell_type": "code",
   "execution_count": 1,
   "metadata": {},
   "outputs": [
    {
     "name": "stdout",
     "output_type": "stream",
     "text": [
      "Hallo verden!\n"
     ]
    }
   ],
   "source": [
    "print(\"Hallo verden!\")\n"
   ]
  },
  {
   "cell_type": "markdown",
   "metadata": {},
   "source": [
    "# Dokumentasjon og kommentarer\n",
    "\n",
    "## Plan\n",
    "\n",
    "1. Hvorfor kommentere/dokumentere\n",
    "2. Kommentarer vs. Dokumentasjon\n",
    "3. Kommentarer\n",
    "   1. Hvordan?\n",
    "   2. Trenger vi egentlig kommentarer?\n",
    "4. Type hinting\n",
    "5. Docstrings\n",
    "\n",
    "\n",
    "## Oppgaver \n",
    "\n",
    "- 3.17 - 3.20 på it2.thorcc.no\n",
    "- Prosjektarbeid"
   ]
  },
  {
   "cell_type": "markdown",
   "metadata": {},
   "source": [
    "## Hvorfor kommentere/dokumentere kode?\n",
    "\n",
    "\"Code is more often read than written\" - Guido von Rossum (skaperen av python)"
   ]
  },
  {
   "cell_type": "markdown",
   "metadata": {},
   "source": [
    "## Kommentarer"
   ]
  },
  {
   "cell_type": "code",
   "execution_count": 2,
   "metadata": {},
   "outputs": [
    {
     "data": {
      "text/plain": [
       "'Kommentarer med tre anførselstegn\\nkan gå over flere linjer'"
      ]
     },
     "execution_count": 2,
     "metadata": {},
     "output_type": "execute_result"
    }
   ],
   "source": [
    "# Kommentarer i python lages med # (hashtag)\n",
    "\"\"\"Dette er også en kommentar\"\"\"\n",
    "\"\"\"Kommentarer med tre anførselstegn\n",
    "kan gå over flere linjer\"\"\"\n",
    "\n",
    "# Ifølge Pythons stilguide (PEP 8) skal ikke en kommentar skal ikke være lenger enn 72 tegn.\n",
    "# Hvis en kommentar er lengre en 72 tegn legger vi på et linjeskift.\n",
    "# Det er vanlig å bruke hashtags selv om vi har lange kommentarer som går over flere\n",
    "# linjer. "
   ]
  },
  {
   "cell_type": "code",
   "execution_count": null,
   "metadata": {},
   "outputs": [],
   "source": [
    "def ta_på_regntøy(vær):\n",
    "    # sjekker om været er regn\n",
    "    if vær == \"regn\":\n",
    "        # returnerer True hvis været er regn   \n",
    "        return True\n",
    "    else:\n",
    "        # returnerer False hvis været IKKE er regn\n",
    "        return False\n",
    "\n",
    "def tpr(v):\n",
    "    if v == \"regn\":\n",
    "        return True\n",
    "    else:\n",
    "        return False"
   ]
  },
  {
   "cell_type": "code",
   "execution_count": null,
   "metadata": {},
   "outputs": [],
   "source": [
    "## Oppgave 3.17\n",
    "\n",
    "# 2. Hva gjør koden?\n",
    "# TODO svar på oppgave 2 her\n",
    "# Koden ganger variabel a (grunnlinje i cm) med b (høyde i cm) og deler på 2. \n",
    "# Dermed finner den arealet av en trekant og printer ut arealet. \n",
    " \n",
    "# 3. Legg på kommentarer slik at koden blir forståelig for andre\n",
    "# Spør brukeren om grunnlinja og konverterer til flyttall (desimaltall)\n",
    "a = float(\"Grunnlinje (cm): \")\n",
    "# Spør brukeren om høyden og konverterer til flyttall (desimaltall)\n",
    "b = float(\"Høyde (cm): \")\n",
    "\n",
    "# Regner ut arealet av trekanten\n",
    "c = a*b/2\n",
    "# Printer arealet sammen med en liten tekst\n",
    "print(f\"Arealet er {c} cm^2\")\n",
    " \n",
    "## ------\n",
    "# 4. Fjern alle kommentarer og endre koden slik at den blir enklere å forstå\n",
    "# Float gjør det mulig for brukeren å skrive inn et desimaltall\n",
    "# Input gjør at brukeren kan skrive inn verdien til variabelen (grunnlinje, høyde)\n",
    "grunnlinje = float(input(\"Grunnlinje (cm): \"))\n",
    "høyde = float(input(\"Høyde (cm): \"))\n",
    "\n",
    "areal = grunnlinje * høyde / 2\n",
    "print(f\"Arealet er {areal} cm^2\")\n",
    "\n",
    "# 5. Se over koden og legg på eventuelle nødvendige kommentarer\n",
    " \n",
    "# TODO Lim inn koden på nytt her"
   ]
  },
  {
   "cell_type": "code",
   "execution_count": null,
   "metadata": {},
   "outputs": [],
   "source": [
    "## Oppgave 3.18\n",
    "\n",
    "# 2. Hva gjør koden?\n",
    "# TODO svar på oppgave 2 her\n",
    "# \n",
    " \n",
    "# 3. Legg på kommentarer slik at koden blir forståelig for andre\n",
    "f1 = [\n",
    "    {\"navn\": \"Max Verstappen\", \"nasjonalitet\": \"nederlandsk\", \"team\": \"Red Bull Racing\", \"bilnummer\": 1},\n",
    "    {\"navn\": \"Sergio Perez\", \"nasjonalitet\": \"meksikansk\", \"team\": \"Red Bull Racing\", \"bilnummer\": 11},\n",
    "    {\"navn\": \"Lewis Hamilton\", \"nasjonalitet\": \"britisk\", \"team\": \"Mercedes\", \"bilnummer\": 44},\n",
    "    {\"navn\": \"George Russell\", \"nasjonalitet\": \"britisk\", \"team\": \"Mercedes\", \"bilnummer\": 63},\n",
    "    {\"navn\": \"Charles Leclerc\", \"nasjonalitet\": \"monegaskisk\", \"team\": \"Ferrari\", \"bilnummer\": 16},\n",
    "    {\"navn\": \"Kevin Magnussen\", \"nasjonalitet\": \"dansk\", \"team\": \"Haas F1 Team\", \"bilnummer\": 20},\n",
    "    {\"navn\": \"Nico Hulkenberg\", \"nasjonalitet\": \"tysk\", \"team\": \"Haas F1 Team\", \"bilnummer\": 27}\n",
    "]\n",
    " \n",
    "antall = {}\n",
    " \n",
    "for s in f1:         \n",
    "  if s['nasjonalitet'] not in antall:\n",
    "    antall[s['nasjonalitet']] = 1\n",
    "  else:\n",
    "    antall[s['nasjonalitet']] += 1\n",
    " \n",
    "print(antall[\"britisk\"])\n",
    "print(antall[\"spansk\"])\n",
    " \n",
    "## ------\n",
    "# 4. Fjern alle kommentarer og endre koden slik at den blir enklere å forstå\n",
    "# 5. Se over koden, og legg på eventuelle kommentarer\n",
    " \n",
    "# TODO Lim inn koden på nytt under her, og endre koden:\n",
    " \n"
   ]
  },
  {
   "cell_type": "markdown",
   "metadata": {},
   "source": [
    "## Type hinting og docstrings\n",
    "\n",
    "Type hinting og docstrings er spesielle kommentarer som brukes for å dokumentere kode.\n",
    "\n",
    "Dokumentasjon av kode lages for å hjelpe utviklere å bruke koden.\n",
    "For eksempel dokumentasjonen som er laget for å forklare random.randint-funksjonen er \n",
    "laget for å forklare utviklere hvordan funksjonen skal brukes.\n",
    "\n",
    "\"Vanlige\" kommentarer er laget for de som skal endre/forbedre kode, mens dokumentasjon lages\n",
    "for programmerere som skal bruke kode. "
   ]
  },
  {
   "cell_type": "code",
   "execution_count": 4,
   "metadata": {},
   "outputs": [
    {
     "data": {
      "text/plain": [
       "25.0"
      ]
     },
     "execution_count": 4,
     "metadata": {},
     "output_type": "execute_result"
    }
   ],
   "source": [
    "# Type hinting\n",
    "\n",
    "# Type hinting skrives etter parametere i funksjoner for å dokumentere hva slags datatyper\n",
    "# parametere skal være. I eksemplet under er \"int\"/\"float\", type hinting. \n",
    "\n",
    "def areal_trekant(grunnlinje: int, høyde: int): # kan være float også, i stedet for int\n",
    "    return grunnlinje * høyde / 2\n",
    "\n",
    "areal_trekant(10, 5)\n",
    "\n"
   ]
  },
  {
   "cell_type": "code",
   "execution_count": null,
   "metadata": {},
   "outputs": [],
   "source": [
    "# Docstring\n",
    "\n",
    "# Docstrings er dokumentasjon som vises når vi bruker en funksjon eller klasse i VS Code,\n",
    "# de skrives mellom tre anførselstegn.\n",
    "# Det er vanlig å beskrive hva funksjonen gjør og hva parametere er. \n",
    "\n",
    "def areal_trekant(grunnlinje: float, høyde: float) -> float:\n",
    "    \"\"\" \n",
    "    En funksjon som regner ut areal av trekanter\n",
    "\n",
    "    parametere\n",
    "        grunnlinje (float): grunnlinje i trekanten\n",
    "        høyde (float): høyden i trekanten\n",
    "    \"\"\"\n",
    "    return grunnlinje * høyde / 2\n",
    "\n",
    "areal_trekant(10, 5)\n",
    "areal_trekant()\n",
    "\n"
   ]
  },
  {
   "cell_type": "code",
   "execution_count": null,
   "metadata": {},
   "outputs": [],
   "source": [
    "# Oppgave 3.19\n",
    "\n",
    "class Hund:\n",
    "    \"\"\"\n",
    "    En klasse for hunder\n",
    "\n",
    "    Attributter:\n",
    "        navn (str): navnet til hunden\n",
    "        alder (int): alderen til hunden\n",
    "        rase (str): rasen til hunden\n",
    "\n",
    "    Metoder:\n",
    "        bjeff(): returnerer en streng som representerer bjeffelyden til hunden\n",
    "        viftPaaHalen(): returnerer en streng som representerer at hunden vifter på halen\n",
    "        info(): printer informasjon om hunden\n",
    "    \"\"\"\n",
    "    def __init__(self, navn, alder, rase):\n",
    "        self.navn = navn\n",
    "        self.alder = alder\n",
    "        self.rase = rase\n",
    " \n",
    "    def bjeff(self):\n",
    "        return f\"{self.navn} sier: Woof!\"\n",
    " \n",
    "    def viftPaaHalen(self):\n",
    "        return f\"{self.navn} vifter på halen!\"\n",
    " \n",
    "    def info(self):\n",
    "        return f\"{self.navn} er en {self.alder} år gammel {self.rase}.\"\n",
    " \n",
    " \n",
    "# Test av klassen\n",
    "if __name__ == \"__main__\":\n",
    "    min_hund = Hund(\"Rex\", 5, \"Schäfer\")\n",
    "    print(min_hund.bjeff())\n",
    "    print(min_hund.viftPaaHalen())\n",
    "    print(min_hund.info())"
   ]
  }
 ],
 "metadata": {
  "kernelspec": {
   "display_name": "Python 3.8.8 ('base')",
   "language": "python",
   "name": "python3"
  },
  "language_info": {
   "codemirror_mode": {
    "name": "ipython",
    "version": 3
   },
   "file_extension": ".py",
   "mimetype": "text/x-python",
   "name": "python",
   "nbconvert_exporter": "python",
   "pygments_lexer": "ipython3",
   "version": "3.8.8"
  },
  "orig_nbformat": 4,
  "vscode": {
   "interpreter": {
    "hash": "5ecbbed35457983b10cea6cb5f29896399aa2d19dc836c68fdc5865faadf66b5"
   }
  }
 },
 "nbformat": 4,
 "nbformat_minor": 2
}
