{
 "cells": [
  {
   "cell_type": "markdown",
   "metadata": {},
   "source": [
    "## Oppgave 3\n",
    "\n",
    "Listen `biler` inneholder informasjon om de 10 mest solgte bilene i Norge i 2023.\n",
    "\n",
    "> OBS! Kjør kodeblokken under før du begynner å programmere!\n",
    "\n",
    "1. Bruk listen og lag en fin utskrift med informasjon om Tesla Model Y\n",
    "2. Bruk listen og lag en fin utskrift med informasjon om alle bilene på topplisten\n",
    "3. Av bilene som er på topplisten hvor mange solgte biler er av merke Toyota?\n",
    "4. Lag en ordbok som teller antall solgte biler for hvert bilmerke på topplisten\n",
    "5. Tegn et stolpediagram som viser antall solgte biler på topplisten gruppert etter bilmerke"
   ]
  },
  {
   "cell_type": "code",
   "execution_count": 105,
   "metadata": {},
   "outputs": [],
   "source": [
    "biler =  [\n",
    "    {\"bilmerke\": \"Tesla\", \"modell\": \"Model Y\", \"land\": \"USA\", \"antall_solgte\": 23088, \"andel_solgte\": 18.2},\n",
    "    {\"bilmerke\": \"Volkswagen\", \"modell\": \"ID.4\", \"land\": \"Tyskland\", \"antall_solgte\": 6614, \"andel_solgte\": 5.2},\n",
    "    {\"bilmerke\": \"Skoda\", \"modell\": \"Enyaq\", \"land\": \"Tsjekkia\", \"antall_solgte\": 5740, \"andel_solgte\": 4.5},\n",
    "    {\"bilmerke\": \"Toyota\", \"modell\": \"bZ4X\", \"land\": \"Japan\", \"antall_solgte\": 5395, \"andel_solgte\": 4.2},\n",
    "    {\"bilmerke\": \"Volvo\", \"modell\": \"XC40\", \"land\": \"Sverige\", \"antall_solgte\": 5025, \"andel_solgte\": 4.0},\n",
    "    {\"bilmerke\": \"Ford\", \"modell\": \"Mustang Mach-E\", \"land\": \"USA\", \"antall_solgte\": 3792, \"andel_solgte\": 3.0},\n",
    "    {\"bilmerke\": \"Toyota\", \"modell\": \"Yaris\", \"land\": \"Japan\", \"antall_solgte\": 3582, \"andel_solgte\": 2.8},\n",
    "    {\"bilmerke\": \"Toyota\", \"modell\": \"RAV4\", \"land\": \"Japan\", \"antall_solgte\": 3457, \"andel_solgte\": 2.7},\n",
    "    {\"bilmerke\": \"Volkswagen\", \"modell\": \"ID.3\", \"land\": \"Tyskland\", \"antall_solgte\": 3141, \"andel_solgte\": 2.5}\n",
    "]\n",
    "# Kjør denne kodeblokken før du begynner! (shift + enter) / (Trykk på play)"
   ]
  },
  {
   "cell_type": "code",
   "execution_count": 106,
   "metadata": {},
   "outputs": [
    {
     "data": {
      "text/plain": [
       "{'bilmerke': 'Tesla',\n",
       " 'modell': 'Model Y',\n",
       " 'land': 'USA',\n",
       " 'antall_solgte': 23088,\n",
       " 'andel_solgte': 18.2}"
      ]
     },
     "execution_count": 106,
     "metadata": {},
     "output_type": "execute_result"
    }
   ],
   "source": [
    "# 1. Bruk ordboken og lag en fin utskrift med informasjon om Tesla Model Y\n",
    "biler[0]"
   ]
  },
  {
   "cell_type": "code",
   "execution_count": 107,
   "metadata": {},
   "outputs": [
    {
     "name": "stdout",
     "output_type": "stream",
     "text": [
      "Tesla, Model Y, USA, 23088, 18.2\n",
      "Volkswagen, ID.4, Tyskland, 6614, 5.2\n",
      "Skoda, Enyaq, Tsjekkia, 5740, 4.5\n",
      "Toyota, bZ4X, Japan, 5395, 4.2\n",
      "Volvo, XC40, Sverige, 5025, 4.0\n",
      "Ford, Mustang Mach-E, USA, 3792, 3.0\n",
      "Toyota, Yaris, Japan, 3582, 2.8\n",
      "Toyota, RAV4, Japan, 3457, 2.7\n",
      "Volkswagen, ID.3, Tyskland, 3141, 2.5\n"
     ]
    }
   ],
   "source": [
    "# 2. Bruk listen og lag en fin utskrift med informasjon om alle bilene på topplisten\n",
    "for bil in biler:\n",
    "    print(f\"{bil['bilmerke']}, {bil['modell']}, {bil['land']}, {bil['antall_solgte']}, {bil['andel_solgte']}\")\n"
   ]
  },
  {
   "cell_type": "code",
   "execution_count": 108,
   "metadata": {},
   "outputs": [
    {
     "name": "stdout",
     "output_type": "stream",
     "text": [
      "Toyota har totalt 12434 antall solgte biler som ligger på topplista.\n"
     ]
    }
   ],
   "source": [
    "# 3. Av bilene som er på topplisten hvor mange solgte biler var av merke Toyota?\n",
    "total = 0\n",
    "for bil in biler:\n",
    "    if bil[\"bilmerke\"] == \"Toyota\":\n",
    "        total += bil[\"antall_solgte\"]\n",
    "print(f\"Toyota har totalt {total} antall solgte biler som ligger på topplista.\")"
   ]
  },
  {
   "cell_type": "code",
   "execution_count": 109,
   "metadata": {},
   "outputs": [
    {
     "ename": "KeyError",
     "evalue": "'antall_solgt'",
     "output_type": "error",
     "traceback": [
      "\u001b[0;31m---------------------------------------------------------------------------\u001b[0m",
      "\u001b[0;31mKeyError\u001b[0m                                  Traceback (most recent call last)",
      "\u001b[0;32m<ipython-input-109-2298a7d23fc3>\u001b[0m in \u001b[0;36m<module>\u001b[0;34m\u001b[0m\n\u001b[1;32m      3\u001b[0m \u001b[0;34m\u001b[0m\u001b[0m\n\u001b[1;32m      4\u001b[0m \u001b[0;32mfor\u001b[0m \u001b[0mbil\u001b[0m \u001b[0;32min\u001b[0m \u001b[0mbiler\u001b[0m\u001b[0;34m:\u001b[0m\u001b[0;34m\u001b[0m\u001b[0;34m\u001b[0m\u001b[0m\n\u001b[0;32m----> 5\u001b[0;31m     \u001b[0mantall_solgt\u001b[0m \u001b[0;34m=\u001b[0m \u001b[0mbil\u001b[0m\u001b[0;34m[\u001b[0m\u001b[0;34m'antall_solgt'\u001b[0m\u001b[0;34m]\u001b[0m\u001b[0;34m\u001b[0m\u001b[0;34m\u001b[0m\u001b[0m\n\u001b[0m\u001b[1;32m      6\u001b[0m     \u001b[0;32mif\u001b[0m \u001b[0mantall_solgt\u001b[0m \u001b[0;32mnot\u001b[0m \u001b[0;32min\u001b[0m \u001b[0mantall_solgte\u001b[0m\u001b[0;34m:\u001b[0m\u001b[0;34m\u001b[0m\u001b[0;34m\u001b[0m\u001b[0m\n\u001b[1;32m      7\u001b[0m         \u001b[0mantall_solgte\u001b[0m\u001b[0;34m[\u001b[0m\u001b[0mantall_solgt\u001b[0m\u001b[0;34m]\u001b[0m \u001b[0;34m=\u001b[0m \u001b[0;36m1\u001b[0m\u001b[0;34m\u001b[0m\u001b[0;34m\u001b[0m\u001b[0m\n",
      "\u001b[0;31mKeyError\u001b[0m: 'antall_solgt'"
     ]
    }
   ],
   "source": [
    "# 4. Lag en ordbok som teller antall solgte biler for hvert bilmerke på topplisten\n",
    "antall_solgte = {}\n",
    "\n",
    "for bil in biler:\n",
    "    antall_solgt = bil['antall_solgt']\n",
    "    if antall_solgt not in antall_solgte:\n",
    "        antall_solgte[antall_solgt] = 1\n",
    "    else:\n",
    "        antall_solgte[antall_solgt] += 1   \n",
    "\n",
    "print(antall_solgte)"
   ]
  },
  {
   "cell_type": "code",
   "execution_count": 104,
   "metadata": {},
   "outputs": [
    {
     "ename": "NameError",
     "evalue": "name 'bilmerke_antall' is not defined",
     "output_type": "error",
     "traceback": [
      "\u001b[0;31m---------------------------------------------------------------------------\u001b[0m",
      "\u001b[0;31mNameError\u001b[0m                                 Traceback (most recent call last)",
      "\u001b[0;32m<ipython-input-104-a3bf1e3deadb>\u001b[0m in \u001b[0;36m<module>\u001b[0;34m\u001b[0m\n\u001b[1;32m      1\u001b[0m \u001b[0;31m# 5. Tegn et stolpediagram som viser antall solgte biler på topplisten gruppert etter bilmerke\u001b[0m\u001b[0;34m\u001b[0m\u001b[0;34m\u001b[0m\u001b[0;34m\u001b[0m\u001b[0m\n\u001b[0;32m----> 2\u001b[0;31m \u001b[0mbilmerke\u001b[0m \u001b[0;34m=\u001b[0m \u001b[0mlist\u001b[0m\u001b[0;34m(\u001b[0m\u001b[0mbilmerke_antall\u001b[0m\u001b[0;34m.\u001b[0m\u001b[0mkeys\u001b[0m\u001b[0;34m(\u001b[0m\u001b[0;34m)\u001b[0m\u001b[0;34m)\u001b[0m \u001b[0;31m# lager en liste over språk\u001b[0m\u001b[0;34m\u001b[0m\u001b[0;34m\u001b[0m\u001b[0m\n\u001b[0m\u001b[1;32m      3\u001b[0m \u001b[0mantall\u001b[0m \u001b[0;34m=\u001b[0m \u001b[0mlist\u001b[0m\u001b[0;34m(\u001b[0m\u001b[0mbilmerke_antall\u001b[0m\u001b[0;34m.\u001b[0m\u001b[0mvalues\u001b[0m\u001b[0;34m(\u001b[0m\u001b[0;34m)\u001b[0m\u001b[0;34m)\u001b[0m \u001b[0;31m# lager en liste over antall\u001b[0m\u001b[0;34m\u001b[0m\u001b[0;34m\u001b[0m\u001b[0m\n\u001b[1;32m      4\u001b[0m \u001b[0;34m\u001b[0m\u001b[0m\n\u001b[1;32m      5\u001b[0m \u001b[0mbilmerke\u001b[0m \u001b[0;34m=\u001b[0m \u001b[0mbilmerke\u001b[0m\u001b[0;34m[\u001b[0m\u001b[0;36m0\u001b[0m\u001b[0;34m:\u001b[0m\u001b[0;36m10\u001b[0m\u001b[0;34m]\u001b[0m \u001b[0;31m#henter ut de fem første språkene\u001b[0m\u001b[0;34m\u001b[0m\u001b[0;34m\u001b[0m\u001b[0m\n",
      "\u001b[0;31mNameError\u001b[0m: name 'bilmerke_antall' is not defined"
     ]
    }
   ],
   "source": [
    "# 5. Tegn et stolpediagram som viser antall solgte biler på topplisten gruppert etter bilmerke\n",
    "bilmerke = list(bilmerke_antall.keys()) # lager en liste over språk\n",
    "antall = list(bilmerke_antall.values()) # lager en liste over antall\n",
    "\n",
    "bilmerke = bilmerke[0:10] #henter ut de fem første språkene\n",
    "antall = antall[0:10] #henter ut de fem første antallene\n",
    "\n",
    "plt.bar(bilmerke, antall) #tegner et stolpediagram (plt.bar) med de fem første språkene i listene\n",
    "# vi burde kanskje sortere først..."
   ]
  },
  {
   "cell_type": "code",
   "execution_count": 103,
   "metadata": {},
   "outputs": [
    {
     "data": {
      "text/plain": [
       "<BarContainer object of 0 artists>"
      ]
     },
     "execution_count": 103,
     "metadata": {},
     "output_type": "execute_result"
    },
    {
     "data": {
      "image/png": "[encoded data removed]",
      "text/plain": [
       "<Figure size 432x288 with 1 Axes>"
      ]
     },
     "metadata": {
      "needs_background": "light"
     },
     "output_type": "display_data"
    }
   ],
   "source": [
    "import matplotlib.pyplot as plt\n",
    "bilmerke_liste = list(antall.keys())\n",
    "antall_solgte_liste = list(antall.values())\n",
    "plt.bar(bilmerke_liste, antall_solgte_liste)"
   ]
  },
  {
   "cell_type": "markdown",
   "metadata": {},
   "source": [
    "## Oppgave 4\n",
    "\n",
    "1. Åpne filen oscar2024.json med python, og print ordboken til \"Actor in a Leading Role\" (den første prisen)\n",
    "2. Print alle de nominerte filmene\n",
    "3. Hvor mange nominasjoner har filmen \"Barbie\"\n",
    "4. Hvilken film har flest nominasjoner, hvor mange har den?\n",
    "5. Lag en oversikt som presenterer de ti filmene med flest nominasjoner og antall nominasjoner"
   ]
  },
  {
   "cell_type": "code",
   "execution_count": 72,
   "metadata": {},
   "outputs": [],
   "source": [
    "# 1. Åpne filen oscar2024.json med python og print ordboken til \"Actor in a Leading Role\"\n",
    "import json\n",
    "\n",
    "fil = open(\"oscar2024.json\", encoding =\"utf-8\")\n",
    "oscar2024 = json.load(fil)\n",
    "fil.close()\n",
    "\n"
   ]
  },
  {
   "cell_type": "code",
   "execution_count": 22,
   "metadata": {},
   "outputs": [
    {
     "data": {
      "text/plain": [
       "{'name': 'Actor in a Supporting Role',\n",
       " 'nominations': [{'name': 'Sterling K. Brown', 'movie': 'American Fiction'},\n",
       "  {'name': 'Robert De Niro', 'movie': 'Killers of the Flower Moon'},\n",
       "  {'name': 'Robert Downey Jr.', 'movie': 'Oppenheimer'},\n",
       "  {'name': 'Ryan Gosling', 'movie': 'Barbie'},\n",
       "  {'name': 'Mark Ruffalo', 'movie': 'Poor Things'}]}"
      ]
     },
     "execution_count": 22,
     "metadata": {},
     "output_type": "execute_result"
    }
   ],
   "source": [
    "oscar2024[1]"
   ]
  },
  {
   "cell_type": "code",
   "execution_count": 88,
   "metadata": {},
   "outputs": [
    {
     "name": "stdout",
     "output_type": "stream",
     "text": [
      "Maestro\n",
      "Rustin\n",
      "The Holdovers\n",
      "Oppenheimer\n",
      "American Fiction\n",
      "American Fiction\n",
      "Killers of the Flower Moon\n",
      "Oppenheimer\n",
      "Barbie\n",
      "Poor Things\n",
      "Nyad\n",
      "Killers of the Flower Moon\n",
      "Anatomy of a Fall\n",
      "Maestro\n",
      "Poor Things\n",
      "Oppenheimer\n",
      "The Color Purple\n",
      "Barbie\n",
      "Nyad\n",
      "The Holdovers\n",
      "The Boy and the Heron\n",
      "Elemental\n",
      "Nimona\n",
      "Robot Dreams\n",
      "Spider-Man: Across the Spider-Verse\n",
      "El Conde\n",
      "Killers of the Flower Moon\n",
      "Maestro\n",
      "Oppenheimer\n",
      "Poor Things\n",
      "Barbie\n",
      "Killers of the Flower Moon\n",
      "Napoleon\n",
      "Oppenheimer\n",
      "Poor Things\n",
      "Anatomy of a Fall\n",
      "Killers of the Flower Moon\n",
      "Oppenheimer\n",
      "Poor Things\n",
      "The Zone of Interest\n",
      "Bobi Wine: The People's President\n",
      "Four Daughters\n",
      "To Kill a Tiger\n",
      "20 Days in Mariupol\n",
      "The ABCs of Book Banning\n",
      "The Barber of Little Rock\n",
      "Island in Between\n",
      "The Last Repair Shop\n",
      "Nǎi Nai & Wài Pó\n",
      "Anatomy of a Fall\n",
      "The Holdovers\n",
      "Killers of the Flower Moon\n",
      "Oppenheimer\n",
      "Poor Things\n",
      "Io Capitano\n",
      "Perfect Days\n",
      "Society of the Snow\n",
      "The Teachers' Lounge\n",
      "The Zone of Interest\n",
      "American Fiction\n",
      "Anatomy of a Fall\n",
      "Barbie\n",
      "The Holdovers\n",
      "Killers of the Flower Moon\n",
      "Maestro\n",
      "Oppenheimer\n",
      "Past Lives\n",
      "Poor Things\n",
      "The Zone of Interest\n",
      "Golda\n",
      "Maestro\n",
      "Oppenheimer\n",
      "Poor Things\n",
      "Society of the Snow\n",
      "American Fiction\n",
      "Indiana Jones and the Dial of Destiny\n",
      "Killers of the Flower Moon\n",
      "Oppenheimer\n",
      "Poor Things\n",
      "The Fire Inside\n",
      "I'm Just Ken\n",
      "It Never Went Away\n",
      "Wahzhazhe (A Song For My People)\n",
      "What Was I Made For?\n",
      "Barbie\n",
      "Killers of the Flower Moon\n",
      "Napoleon\n",
      "Oppenheimer\n",
      "Poor Things\n",
      "Letter to a Pig\n",
      "Ninety-Five Senses\n",
      "Our Uniform\n",
      "Pachyderme\n",
      "WAR IS OVER! Inspired by the Music of John & Yoko\n",
      "The After\n",
      "Invincible\n",
      "Knight of Fortune\n",
      "Red, White and Blue\n",
      "The Wonderful Story of Henry Sugar\n",
      "The Creator\n",
      "Maestro\n",
      "Mission: Impossible - Dead Reckoning Part One\n",
      "Oppenheimer\n",
      "The Zone of Interest\n",
      "The Creator\n",
      "Godzilla Minus One\n",
      "Guardians of the Galaxy Vol. 3\n",
      "Mission: Impossible - Dead Reckoning Part One\n",
      "Napoleon\n",
      "American Fiction\n",
      "Barbie\n",
      "Oppenheimer\n",
      "Poor Things\n",
      "The Zone of Interest\n",
      "Anatomy of a Fall\n",
      "The Holdovers\n",
      "Maestro\n",
      "May December\n",
      "Past Lives\n"
     ]
    }
   ],
   "source": [
    "# 2. Print alle filmene de nominerte filmene\n",
    "# >  Filmer som er nominert til flere priser kan printes flere ganger\n",
    "for nomination in oscar2024:\n",
    "    filmer = nomination[\"nominations\"]\n",
    "    for film in filmer:\n",
    "        print (film['movie'])"
   ]
  },
  {
   "cell_type": "code",
   "execution_count": 119,
   "metadata": {},
   "outputs": [
    {
     "name": "stdout",
     "output_type": "stream",
     "text": [
      "Barbie har totalt 0 antall nominasjoner.\n",
      "Barbie har totalt 0 antall nominasjoner.\n",
      "Barbie har totalt 0 antall nominasjoner.\n"
     ]
    },
    {
     "ename": "KeyError",
     "evalue": "'antall_nominations'",
     "output_type": "error",
     "traceback": [
      "\u001b[0;31m---------------------------------------------------------------------------\u001b[0m",
      "\u001b[0;31mKeyError\u001b[0m                                  Traceback (most recent call last)",
      "\u001b[0;32m<ipython-input-119-405ca8227b1a>\u001b[0m in \u001b[0;36m<module>\u001b[0;34m\u001b[0m\n\u001b[1;32m      3\u001b[0m \u001b[0;32mfor\u001b[0m \u001b[0mfilm\u001b[0m \u001b[0;32min\u001b[0m \u001b[0mfilmer\u001b[0m\u001b[0;34m:\u001b[0m\u001b[0;34m\u001b[0m\u001b[0;34m\u001b[0m\u001b[0m\n\u001b[1;32m      4\u001b[0m     \u001b[0;32mif\u001b[0m \u001b[0mfilm\u001b[0m\u001b[0;34m[\u001b[0m\u001b[0;34m\"movie\"\u001b[0m\u001b[0;34m]\u001b[0m \u001b[0;34m==\u001b[0m \u001b[0;34m\"Barbie\"\u001b[0m\u001b[0;34m:\u001b[0m\u001b[0;34m\u001b[0m\u001b[0;34m\u001b[0m\u001b[0m\n\u001b[0;32m----> 5\u001b[0;31m         \u001b[0mtotal\u001b[0m \u001b[0;34m+=\u001b[0m \u001b[0mfilm\u001b[0m\u001b[0;34m[\u001b[0m\u001b[0;34m\"antall_nominations\"\u001b[0m\u001b[0;34m]\u001b[0m\u001b[0;34m\u001b[0m\u001b[0;34m\u001b[0m\u001b[0m\n\u001b[0m\u001b[1;32m      6\u001b[0m     \u001b[0mprint\u001b[0m\u001b[0;34m(\u001b[0m\u001b[0;34mf\"Barbie har totalt {total} antall nominasjoner.\"\u001b[0m\u001b[0;34m)\u001b[0m\u001b[0;34m\u001b[0m\u001b[0;34m\u001b[0m\u001b[0m\n",
      "\u001b[0;31mKeyError\u001b[0m: 'antall_nominations'"
     ]
    }
   ],
   "source": [
    "# 3. Hvor mange nominasjoner har filmen \"Barbie\"\n",
    "total = 0\n",
    "for film in filmer:\n",
    "    if film[\"movie\"] == \"Barbie\":\n",
    "        total += film[\"antall_nominations\"]\n",
    "    print(f\"Barbie har totalt {total} antall nominasjoner.\")\n"
   ]
  },
  {
   "cell_type": "code",
   "execution_count": 114,
   "metadata": {},
   "outputs": [
    {
     "ename": "KeyError",
     "evalue": "'movie'",
     "output_type": "error",
     "traceback": [
      "\u001b[0;31m---------------------------------------------------------------------------\u001b[0m",
      "\u001b[0;31mKeyError\u001b[0m                                  Traceback (most recent call last)",
      "\u001b[0;32m<ipython-input-114-4a4da2901270>\u001b[0m in \u001b[0;36m<module>\u001b[0;34m\u001b[0m\n\u001b[1;32m      5\u001b[0m     \u001b[0mfilmer\u001b[0m \u001b[0;34m=\u001b[0m \u001b[0mnomination\u001b[0m\u001b[0;34m[\u001b[0m\u001b[0;34m\"nominations\"\u001b[0m\u001b[0;34m]\u001b[0m\u001b[0;34m\u001b[0m\u001b[0;34m\u001b[0m\u001b[0m\n\u001b[1;32m      6\u001b[0m     \u001b[0;32mfor\u001b[0m \u001b[0mfilm\u001b[0m \u001b[0;32min\u001b[0m \u001b[0mnomination\u001b[0m\u001b[0;34m:\u001b[0m\u001b[0;34m\u001b[0m\u001b[0;34m\u001b[0m\u001b[0m\n\u001b[0;32m----> 7\u001b[0;31m         \u001b[0mfilm\u001b[0m \u001b[0;34m=\u001b[0m \u001b[0mnomination\u001b[0m\u001b[0;34m[\u001b[0m\u001b[0;34m'movie'\u001b[0m\u001b[0;34m]\u001b[0m\u001b[0;34m[\u001b[0m\u001b[0;34m'name'\u001b[0m\u001b[0;34m]\u001b[0m\u001b[0;34m\u001b[0m\u001b[0;34m\u001b[0m\u001b[0m\n\u001b[0m\u001b[1;32m      8\u001b[0m         \u001b[0;32mif\u001b[0m \u001b[0mfilm\u001b[0m \u001b[0;32mnot\u001b[0m \u001b[0;32min\u001b[0m \u001b[0mantall\u001b[0m\u001b[0;34m:\u001b[0m\u001b[0;34m\u001b[0m\u001b[0;34m\u001b[0m\u001b[0m\n\u001b[1;32m      9\u001b[0m             \u001b[0mantall\u001b[0m\u001b[0;34m[\u001b[0m\u001b[0mfilm\u001b[0m\u001b[0;34m]\u001b[0m \u001b[0;34m=\u001b[0m \u001b[0;36m1\u001b[0m\u001b[0;34m\u001b[0m\u001b[0;34m\u001b[0m\u001b[0m\n",
      "\u001b[0;31mKeyError\u001b[0m: 'movie'"
     ]
    }
   ],
   "source": [
    "# 4. Hvilken film har flest nominasjoner, hvor mange har den?\n",
    "antall = {}\n",
    "\n",
    "for nomination in oscar2024:\n",
    "    filmer = nomination[\"nominations\"]\n",
    "    for film in nomination:\n",
    "        film = nomination['movie']['name']\n",
    "        if film not in antall:\n",
    "            antall[film] = 1\n",
    "        else:\n",
    "            antall[film] += 1\n",
    "        \n",
    "    print(antall)"
   ]
  },
  {
   "cell_type": "code",
   "execution_count": 100,
   "metadata": {},
   "outputs": [
    {
     "ename": "IndexError",
     "evalue": "list index out of range",
     "output_type": "error",
     "traceback": [
      "\u001b[0;31m---------------------------------------------------------------------------\u001b[0m",
      "\u001b[0;31mIndexError\u001b[0m                                Traceback (most recent call last)",
      "\u001b[0;32m<ipython-input-100-e9ab8241e612>\u001b[0m in \u001b[0;36m<module>\u001b[0;34m\u001b[0m\n\u001b[1;32m      1\u001b[0m \u001b[0mantall_liste\u001b[0m \u001b[0;34m=\u001b[0m \u001b[0mlist\u001b[0m\u001b[0;34m(\u001b[0m\u001b[0mantall\u001b[0m\u001b[0;34m.\u001b[0m\u001b[0mitems\u001b[0m\u001b[0;34m(\u001b[0m\u001b[0;34m)\u001b[0m\u001b[0;34m)\u001b[0m\u001b[0;34m\u001b[0m\u001b[0;34m\u001b[0m\u001b[0m\n\u001b[1;32m      2\u001b[0m \u001b[0mantall_sortert\u001b[0m \u001b[0;34m=\u001b[0m \u001b[0msorted\u001b[0m\u001b[0;34m(\u001b[0m\u001b[0mantall_liste\u001b[0m\u001b[0;34m,\u001b[0m \u001b[0mkey\u001b[0m\u001b[0;34m=\u001b[0m\u001b[0;32mlambda\u001b[0m \u001b[0mnomination\u001b[0m\u001b[0;34m:\u001b[0m \u001b[0mnomination\u001b[0m\u001b[0;34m[\u001b[0m\u001b[0;36m1\u001b[0m\u001b[0;34m]\u001b[0m\u001b[0;34m)\u001b[0m\u001b[0;34m\u001b[0m\u001b[0;34m\u001b[0m\u001b[0m\n\u001b[0;32m----> 3\u001b[0;31m \u001b[0mnominations_flest\u001b[0m \u001b[0;34m=\u001b[0m \u001b[0mantall_sortert\u001b[0m\u001b[0;34m[\u001b[0m\u001b[0;34m-\u001b[0m\u001b[0;36m1\u001b[0m\u001b[0;34m]\u001b[0m\u001b[0;34m\u001b[0m\u001b[0;34m\u001b[0m\u001b[0m\n\u001b[0m\u001b[1;32m      4\u001b[0m \u001b[0mprint\u001b[0m\u001b[0;34m(\u001b[0m\u001b[0;34mf\"Partiet med flest politikere på tinget er {nomination_flest[0]} de har {nomination_flest[1]}\"\u001b[0m\u001b[0;34m)\u001b[0m\u001b[0;34m\u001b[0m\u001b[0;34m\u001b[0m\u001b[0m\n",
      "\u001b[0;31mIndexError\u001b[0m: list index out of range"
     ]
    }
   ],
   "source": [
    "antall_liste = list(antall.items())\n",
    "antall_sortert = sorted(antall_liste, key=lambda nomination: nomination[1])\n",
    "nominations_flest = antall_sortert[-1]\n",
    "print(f\"Partiet med flest politikere på tinget er {nomination_flest[0]} de har {nomination_flest[1]}\")"
   ]
  },
  {
   "cell_type": "code",
   "execution_count": 116,
   "metadata": {},
   "outputs": [
    {
     "ename": "SyntaxError",
     "evalue": "Missing parentheses in call to 'print'. Did you mean print(nominasjoner_antall)? (<ipython-input-116-cde1f30448ff>, line 9)",
     "output_type": "error",
     "traceback": [
      "\u001b[0;36m  File \u001b[0;32m\"<ipython-input-116-cde1f30448ff>\"\u001b[0;36m, line \u001b[0;32m9\u001b[0m\n\u001b[0;31m    print nominasjoner_antall\u001b[0m\n\u001b[0m          ^\u001b[0m\n\u001b[0;31mSyntaxError\u001b[0m\u001b[0;31m:\u001b[0m Missing parentheses in call to 'print'. Did you mean print(nominasjoner_antall)?\n"
     ]
    }
   ],
   "source": [
    "# 5. Lag en utskrift som viser de ti filmene med flest nominasjoner og antall nominasjoner\n",
    "nominasjoner_antall = {}\n",
    "for film in filmer:\n",
    "    for nominasjon in film['nominasjoner']:\n",
    "        if nominasjon in nominasjoner_antall:\n",
    "            nominasjoner_antall[nominasjon] += 1\n",
    "        else:\n",
    "            nominasjoner_antall[nominasjon] = 1\n",
    " \n",
    "#nominasjoner_sortert = sorted(nominasjoner_antall.items(), key=lambda nominasjon: nominasjon[1], reverse=True)\n",
    "#print(f\"De ti filmene med flest nominasjoner på listen er {nominasjoner_sortert[0][0]} med {nominasjoner_sortert[0][1]} nominasjoner\")\n",
    " \n"
   ]
  }
 ],
 "metadata": {
  "kernelspec": {
   "display_name": "Python 3.8.8 ('base')",
   "language": "python",
   "name": "python3"
  },
  "language_info": {
   "codemirror_mode": {
    "name": "ipython",
    "version": 3
   },
   "file_extension": ".py",
   "mimetype": "text/x-python",
   "name": "python",
   "nbconvert_exporter": "python",
   "pygments_lexer": "ipython3",
   "version": "3.8.8"
  },
  "vscode": {
   "interpreter": {
    "hash": "5ecbbed35457983b10cea6cb5f29896399aa2d19dc836c68fdc5865faadf66b5"
   }
  }
 },
 "nbformat": 4,
 "nbformat_minor": 2
}
