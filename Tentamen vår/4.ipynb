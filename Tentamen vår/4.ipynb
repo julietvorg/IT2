{
 "cells": [
  {
   "cell_type": "code",
   "execution_count": 27,
   "metadata": {},
   "outputs": [],
   "source": [
    "import json\n",
    "\n",
    "fil = open(\"sykkelturer.json\", encoding =\"utf-8\")\n",
    "sykkelturer = json.load(fil)\n",
    "fil.close()"
   ]
  },
  {
   "cell_type": "code",
   "execution_count": 35,
   "metadata": {},
   "outputs": [
    {
     "name": "stdout",
     "output_type": "stream",
     "text": [
      "{'Elisenberg': 187, 'Schous plass': 336, 'Schous plass trikkestopp': 221, 'Hallings gate': 189, 'Studenterlunden': 170, 'Stensparken': 217, 'Hydroparken': 125, 'Botanisk Hage sør': 421, 'Jens Bjelkes Gate': 374, 'Vår Frelsers gravlund sør': 369, 'Riddervoldplass': 119, 'Pilestredet 63': 138, 'Bislett Stadion': 474, 'Aker Brygge': 492, 'Sommerfrydhagen': 238, 'Torggata': 308, 'St. Hanshaugen park nord': 134, 'Drammensveien': 92, 'Mandalls gate': 126, 'Fagerheimgata': 228, 'Helga Helgesens plass': 503, 'Jernbanetorget': 310, 'Munkegata': 302, 'Jordalgata': 227, 'Ensjøveien': 82, 'Lilleborgbanen': 202, 'Sinsen T-bane': 101, 'Fram-gården': 184, 'Adamstuen': 98, 'Bjerregaards gate': 299, 'Alexander Kiellands Plass': 537, 'The Hub': 181, 'Domus Athletica': 143, 'Marienlyst': 86, 'Blindern studentparkering': 108, 'Tøyen skole': 463, 'Skarpsnoparken': 50, 'Oslo Hospital': 238, 'Søndre gate': 346, 'Carl Berners plass nord': 243, 'OsloMet': 196, 'Nordre gate': 189, 'Diakonhjemmet': 89, 'Olaf Ryes plass': 495, 'Saga Kino': 285, 'Københavngata busstopp': 98, 'Kirkeveien': 152, 'Bogstadveien': 258, 'Majorstuveien': 126, 'Hasle': 157, 'Carl Berners plass sør': 203, 'Hammersborg Torg': 259, 'Blindern Studenthus': 129, 'Ullevål sykehus': 260, 'Krohgstøtten hospital': 33, 'Sofienberggata': 183, 'Parkveien': 204, 'Thomas Heftyes plass': 306, 'Storo Storsenter': 155, 'Ullevålsveien': 116, 'Suhms gate': 113, 'Jenny Braatens Plass': 170, 'Bjerregaardsgate Øst': 127, 'Majorstuen': 356, 'Holbergs plass': 194, 'Fred Olsens gate': 118, 'Slottsparken Øst': 204, 'St. Olavs gate': 306, 'Ensjø T-bane': 200, 'Sofienbergparken sør': 170, 'Sofienbergparken nordvest': 326, 'Landstads gate': 321, 'Tannlegehøyskolen': 108, 'Marcus Thranes gate': 476, 'Tjuvholmen': 376, 'Stavangergata': 378, 'Colbjørnsens gate': 119, 'Gimle Kino': 260, 'Frogner Stadion': 216, 'Mølleparken': 242, 'Bislettgata': 384, 'Furulund': 36, 'Schives gate': 130, 'Vaterlandsparken': 180, 'Fredensborg': 233, 'Vestkanttorvet': 181, 'Frognerveien': 158, 'Uelands gate': 144, 'Skippergata': 111, 'Oscars gate': 229, 'Birkelunden': 384, 'Henrik Ibsens gate': 254, 'Tøyenparken': 97, 'Ringnes Park': 460, 'Fysikkbygningen': 173, 'Hedmarksgata': 71, 'Dyvekes bru': 174, 'Vulkan': 317, 'Huitfeldts gate': 209, 'Torshovdalen øst': 141, 'Tøyenbekken': 108, 'Sørvest for Slottsparken': 79, 'Karenslyst allé': 217, 'Lodalen busstopp': 68, 'Frognerstranda': 225, 'Lille Grensen': 207, 'Lørenveien': 195, 'Sotahjørnet': 175, 'AHO': 379, 'Chr. Michelsens Gate': 185, 'Colletts gate': 125, 'Arkaden Nord': 74, 'Rostockgata': 265, 'Gunerius': 132, 'Forskningsveien': 172, 'Lakkegata': 288, 'Uranienborgveien': 167, 'Ila': 148, 'Sjøsiden ved trappen': 385, 'Finnmarksgata': 77, 'Badebakken': 78, 'Universitetsgata': 119, 'Sognsveien': 212, 'Lille Schous plass': 119, 'Rådhusgata': 134, 'Arkitekt Rivertz Plass': 237, 'Skillebekk': 224, 'Sofienbergparken nord': 303, 'Majorstuen T-bane': 68, 'Sjøsiden ved fontenen': 144, 'Vippetangen vest': 209, 'Monolittveien': 65, 'Nydalen': 23, 'Sukkerbiten': 346, 'Frogner plass': 325, 'Bankplassen': 201, 'Pilestredet Studenthus': 65, 'Stockfleths gate': 90, 'Hoffsveien': 124, 'Colosseum Kino': 120, 'Langkaia': 87, 'Henrik Wergelands allé': 165, 'Grünerhagen Nord': 165, 'Akerselvallmenningen': 170, 'Norsk Folkemuseum': 197, 'Jess Carlsens gate': 292, 'Filipstadveien': 182, 'Professor Aschehougs plass': 213, 'Edvard Storms gate': 260, 'Hans Nielsen Hauges plass': 176, 'Majorstua skole': 253, 'Botanisk hage sør-vest': 149, 'Kontraskjæret': 167, 'Bygdøy allé': 74, 'Nybrua holdeplass': 67, 'Skøyen': 146, 'Grønlands torg': 188, 'Hasle Torg': 167, 'Bjølsen Studentby': 213, 'Studentparlamentet': 163, 'Skovveien': 159, 'Hesselbergs Gate': 144, 'Sentrum Scene': 214, 'Kværnerbyen': 316, 'Georg Morgenstiernes hus': 257, 'Marienlystparken': 159, 'St. Hanshaugen park vest': 271, 'Dokkveien': 226, 'Volvat': 90, 'Uranienborgparken': 180, 'Anker Hotel': 133, 'Bjørvika': 231, 'Kirkegata 15': 157, 'Ulven Torg': 56, 'Salt': 108, 'Idioten': 124, 'Vålerenga': 87, 'Briskeby': 166, \"Krebs' gate\": 115, 'John Colletts plass': 176, 'Kirkeristen': 293, 'Oslo Plaza': 173, 'Kampen park Øst': 147, 'Akersgata': 245, 'Skøyen Stasjon': 38, 'Enerhaugen': 112, '7 Juni Plassen': 204, 'Trondheimsveien': 131, 'Dronningens gate': 69, 'Meltzers gate': 86, 'Oslo Handelsgymnasium': 189, 'Paléhaven': 151, 'Galgeberg': 187, 'Bentsebrugata': 251, 'Pilestredet': 106, 'BI Nydalen': 251, 'Frognerbadet': 92, 'Tåsen Senter': 75, 'Skråninga': 204, 'Olav Kyrres plass': 53, 'Valkyrieplassen': 102, 'Arkaden Sør': 46, 'Via Vika': 93, 'Sagene bussholdeplass': 261, 'Spikersuppa Øst': 189, 'Jakob kirke': 293, 'Trelastgata': 87, 'Botanisk Hage vest': 128, 'Økern Portal': 74, 'HasleLinje': 52, 'Friggfeltet': 101, 'Stjerneplassen': 116, 'Over Rådhusgata': 139, 'Kværnerveien': 16, 'Thune': 92, 'Sjølyst': 53, 'Hausmanns bru': 134, 'Vippetangen øst': 94, 'Munkedamsveien': 88, 'Lørenporten': 96, 'Jarlsborgveien': 30, 'Dælenenggata': 141, 'Hallénparken': 160, 'Mailundveien': 70, 'Linaaes gate': 250, 'Brugata': 94, 'Spikersuppa Vest': 144, 'Annette Thommessens Plass': 151, 'Fyrstikktorget': 167, 'St. Hanshaugen park sør': 145, 'Myraløkka Øst': 161, 'Frøen T-bane': 33, 'Stensgata': 142, 'Griffenfeldts gate': 80, 'Thereses gate': 53, 'Borgenveien': 31, 'Arendalsgata': 104, 'Hausmanns gate': 126, 'Bak Niels Treschows hus nord': 129, 'Brynseng T-bane': 38, 'Klingenberggata': 105, 'Sirkustomta': 148, 'Ullevålsalléen': 42, 'Bak Niels Treschows hus sør': 94, 'Økernveien': 27, 'Sinsenveien': 66, 'Rolf Wickstrøms vei': 35, 'Torshovparken vest': 81, 'Bjølsendumpa': 171, 'Lindern': 240, \"Biskop Gunnerus' gate\": 37, 'Kjeld Stubs gate': 86, 'Tordenskiolds gate': 19, 'Gaustad T-bane': 4, 'Stortingstunellen': 38, 'Bjølsen mølle': 77, 'Grenseveien': 28}\n"
     ]
    },
    {
     "ename": "AttributeError",
     "evalue": "'list' object has no attribute 'items'",
     "output_type": "error",
     "traceback": [
      "\u001b[0;31m---------------------------------------------------------------------------\u001b[0m",
      "\u001b[0;31mAttributeError\u001b[0m                            Traceback (most recent call last)",
      "\u001b[0;32m<ipython-input-35-c71c8e0b1dcf>\u001b[0m in \u001b[0;36m<module>\u001b[0;34m\u001b[0m\n\u001b[1;32m     13\u001b[0m \u001b[0mprint\u001b[0m\u001b[0;34m(\u001b[0m\u001b[0mantall_sykkelturer\u001b[0m\u001b[0;34m)\u001b[0m\u001b[0;34m\u001b[0m\u001b[0;34m\u001b[0m\u001b[0m\n\u001b[1;32m     14\u001b[0m \u001b[0;34m\u001b[0m\u001b[0m\n\u001b[0;32m---> 15\u001b[0;31m \u001b[0msykkelturer_liste\u001b[0m \u001b[0;34m=\u001b[0m \u001b[0msykkelturer\u001b[0m\u001b[0;34m.\u001b[0m\u001b[0mitems\u001b[0m\u001b[0;34m(\u001b[0m\u001b[0;34m)\u001b[0m\u001b[0;34m\u001b[0m\u001b[0;34m\u001b[0m\u001b[0m\n\u001b[0m\u001b[1;32m     16\u001b[0m \u001b[0;34m\u001b[0m\u001b[0m\n\u001b[1;32m     17\u001b[0m \u001b[0mstartstasjoner_sortert\u001b[0m \u001b[0;34m=\u001b[0m \u001b[0msorted\u001b[0m\u001b[0;34m(\u001b[0m\u001b[0msykkelturer_liste\u001b[0m\u001b[0;34m,\u001b[0m \u001b[0mkey\u001b[0m\u001b[0;34m=\u001b[0m\u001b[0;32mlambda\u001b[0m \u001b[0mstartstasjon\u001b[0m\u001b[0;34m:\u001b[0m \u001b[0mstartstasjon\u001b[0m\u001b[0;34m[\u001b[0m\u001b[0;36m1\u001b[0m\u001b[0;34m]\u001b[0m\u001b[0;34m)\u001b[0m\u001b[0;34m\u001b[0m\u001b[0;34m\u001b[0m\u001b[0m\n",
      "\u001b[0;31mAttributeError\u001b[0m: 'list' object has no attribute 'items'"
     ]
    }
   ],
   "source": [
    "# Oppgave 1\n",
    "\n",
    "antall_sykkelturer = {}                      \n",
    "\n",
    "for startstasjon in sykkelturer:                      \n",
    "  sykkeltur = startstasjon['start_station_name']           \n",
    "  if sykkeltur not in antall_sykkelturer:  \n",
    "    antall_sykkelturer[sykkeltur] = 1         \n",
    "  else:                                          \n",
    "    antall_sykkelturer[sykkeltur] += 1   \n",
    " \n",
    " \n",
    "print(antall_sykkelturer)\n",
    "\n",
    "sykkelturer_liste = sykkelturer.items()\n",
    "\n",
    "startstasjoner_sortert = sorted(sykkelturer_liste, key=lambda startstasjon: startstasjon[1]) \n",
    "print(startstasjoner_sortert)"
   ]
  },
  {
   "cell_type": "code",
   "execution_count": 36,
   "metadata": {},
   "outputs": [
    {
     "ename": "KeyError",
     "evalue": "'start_station'",
     "output_type": "error",
     "traceback": [
      "\u001b[0;31m---------------------------------------------------------------------------\u001b[0m",
      "\u001b[0;31mKeyError\u001b[0m                                  Traceback (most recent call last)",
      "\u001b[0;32m<ipython-input-36-5720020aee28>\u001b[0m in \u001b[0;36m<module>\u001b[0;34m\u001b[0m\n\u001b[1;32m     15\u001b[0m \u001b[0;34m\u001b[0m\u001b[0m\n\u001b[1;32m     16\u001b[0m \u001b[0;34m\u001b[0m\u001b[0m\n\u001b[0;32m---> 17\u001b[0;31m \u001b[0mpresentere_top_5_info\u001b[0m\u001b[0;34m(\u001b[0m\u001b[0msykkelturer\u001b[0m\u001b[0;34m)\u001b[0m\u001b[0;34m\u001b[0m\u001b[0;34m\u001b[0m\u001b[0m\n\u001b[0m",
      "\u001b[0;32m<ipython-input-36-5720020aee28>\u001b[0m in \u001b[0;36mpresentere_top_5_info\u001b[0;34m(sykkelturer)\u001b[0m\n\u001b[1;32m      6\u001b[0m \u001b[0;34m\u001b[0m\u001b[0m\n\u001b[1;32m      7\u001b[0m \u001b[0;32mdef\u001b[0m \u001b[0mpresentere_top_5_info\u001b[0m\u001b[0;34m(\u001b[0m\u001b[0msykkelturer\u001b[0m\u001b[0;34m)\u001b[0m\u001b[0;34m:\u001b[0m\u001b[0;34m\u001b[0m\u001b[0;34m\u001b[0m\u001b[0m\n\u001b[0;32m----> 8\u001b[0;31m     \u001b[0mtop_5\u001b[0m \u001b[0;34m=\u001b[0m \u001b[0mfinn_top_5_startstasjoner\u001b[0m\u001b[0;34m(\u001b[0m\u001b[0msykkelturer\u001b[0m\u001b[0;34m)\u001b[0m\u001b[0;34m\u001b[0m\u001b[0;34m\u001b[0m\u001b[0m\n\u001b[0m\u001b[1;32m      9\u001b[0m     \u001b[0mprint\u001b[0m\u001b[0;34m(\u001b[0m\u001b[0;34m\"Top 5 startstasjoner:\"\u001b[0m\u001b[0;34m)\u001b[0m\u001b[0;34m\u001b[0m\u001b[0;34m\u001b[0m\u001b[0m\n\u001b[1;32m     10\u001b[0m     \u001b[0;32mfor\u001b[0m \u001b[0mbruker\u001b[0m \u001b[0;32min\u001b[0m \u001b[0mtop_5\u001b[0m\u001b[0;34m:\u001b[0m\u001b[0;34m\u001b[0m\u001b[0;34m\u001b[0m\u001b[0m\n",
      "\u001b[0;32m<ipython-input-36-5720020aee28>\u001b[0m in \u001b[0;36mfinn_top_5_startstasjoner\u001b[0;34m(sykkelturer)\u001b[0m\n\u001b[1;32m      2\u001b[0m \u001b[0;34m\u001b[0m\u001b[0m\n\u001b[1;32m      3\u001b[0m \u001b[0;32mdef\u001b[0m \u001b[0mfinn_top_5_startstasjoner\u001b[0m\u001b[0;34m(\u001b[0m\u001b[0msykkelturer\u001b[0m\u001b[0;34m)\u001b[0m\u001b[0;34m:\u001b[0m\u001b[0;34m\u001b[0m\u001b[0;34m\u001b[0m\u001b[0m\n\u001b[0;32m----> 4\u001b[0;31m     \u001b[0;32mreturn\u001b[0m \u001b[0msorted\u001b[0m\u001b[0;34m(\u001b[0m\u001b[0msykkelturer\u001b[0m\u001b[0;34m,\u001b[0m \u001b[0mkey\u001b[0m\u001b[0;34m=\u001b[0m\u001b[0;32mlambda\u001b[0m \u001b[0mx\u001b[0m\u001b[0;34m:\u001b[0m \u001b[0mx\u001b[0m\u001b[0;34m[\u001b[0m\u001b[0;34m\"start_station\"\u001b[0m\u001b[0;34m]\u001b[0m\u001b[0;34m,\u001b[0m \u001b[0mreverse\u001b[0m\u001b[0;34m=\u001b[0m\u001b[0;32mTrue\u001b[0m\u001b[0;34m)\u001b[0m\u001b[0;34m[\u001b[0m\u001b[0;34m:\u001b[0m\u001b[0;36m5\u001b[0m\u001b[0;34m]\u001b[0m\u001b[0;34m\u001b[0m\u001b[0;34m\u001b[0m\u001b[0m\n\u001b[0m\u001b[1;32m      5\u001b[0m \u001b[0;34m\u001b[0m\u001b[0m\n\u001b[1;32m      6\u001b[0m \u001b[0;34m\u001b[0m\u001b[0m\n",
      "\u001b[0;32m<ipython-input-36-5720020aee28>\u001b[0m in \u001b[0;36m<lambda>\u001b[0;34m(x)\u001b[0m\n\u001b[1;32m      2\u001b[0m \u001b[0;34m\u001b[0m\u001b[0m\n\u001b[1;32m      3\u001b[0m \u001b[0;32mdef\u001b[0m \u001b[0mfinn_top_5_startstasjoner\u001b[0m\u001b[0;34m(\u001b[0m\u001b[0msykkelturer\u001b[0m\u001b[0;34m)\u001b[0m\u001b[0;34m:\u001b[0m\u001b[0;34m\u001b[0m\u001b[0;34m\u001b[0m\u001b[0m\n\u001b[0;32m----> 4\u001b[0;31m     \u001b[0;32mreturn\u001b[0m \u001b[0msorted\u001b[0m\u001b[0;34m(\u001b[0m\u001b[0msykkelturer\u001b[0m\u001b[0;34m,\u001b[0m \u001b[0mkey\u001b[0m\u001b[0;34m=\u001b[0m\u001b[0;32mlambda\u001b[0m \u001b[0mx\u001b[0m\u001b[0;34m:\u001b[0m \u001b[0mx\u001b[0m\u001b[0;34m[\u001b[0m\u001b[0;34m\"start_station\"\u001b[0m\u001b[0;34m]\u001b[0m\u001b[0;34m,\u001b[0m \u001b[0mreverse\u001b[0m\u001b[0;34m=\u001b[0m\u001b[0;32mTrue\u001b[0m\u001b[0;34m)\u001b[0m\u001b[0;34m[\u001b[0m\u001b[0;34m:\u001b[0m\u001b[0;36m5\u001b[0m\u001b[0;34m]\u001b[0m\u001b[0;34m\u001b[0m\u001b[0;34m\u001b[0m\u001b[0m\n\u001b[0m\u001b[1;32m      5\u001b[0m \u001b[0;34m\u001b[0m\u001b[0m\n\u001b[1;32m      6\u001b[0m \u001b[0;34m\u001b[0m\u001b[0m\n",
      "\u001b[0;31mKeyError\u001b[0m: 'start_station'"
     ]
    }
   ],
   "source": [
    "# Oppgave 1\n",
    "\n",
    "def finn_top_5_startstasjoner(sykkelturer):\n",
    "    return sorted(sykkelturer, key=lambda x: x[\"start_station\"], reverse=True)[:5]\n",
    "\n",
    "\n",
    "def presentere_top_5_info(sykkelturer):\n",
    "    top_5 = finn_top_5_startstasjoner(sykkelturer)\n",
    "    print(\"Top 5 startstasjoner:\")\n",
    "    for bruker in top_5:\n",
    "        print(\"Startstasjon:\", bruker[\"start_station_name\"])\n",
    "        print(\"Antall turer:\", bruker[\"start_station_id\"])\n",
    "        \n",
    "        print()\n",
    "\n",
    "\n",
    "presentere_top_5_info(sykkelturer)"
   ]
  },
  {
   "cell_type": "code",
   "execution_count": 26,
   "metadata": {},
   "outputs": [
    {
     "name": "stdout",
     "output_type": "stream",
     "text": [
      "Top 3 lengste turer:\n",
      "Startstasjon: Idioten\n",
      "Endestasjon: Trondheimsveien\n",
      "Varighet: 999\n",
      "\n",
      "Startstasjon: Sofienbergparken nordvest\n",
      "Endestasjon: Sjøsiden ved fontenen\n",
      "Varighet: 999\n",
      "\n",
      "Startstasjon: Lilleborgbanen\n",
      "Endestasjon: Sjøsiden ved fontenen\n",
      "Varighet: 999\n",
      "\n"
     ]
    }
   ],
   "source": [
    "# Oppgave 2\n",
    "\n",
    "def finn_top_3_lengste_turer(sykkelturer):\n",
    "    return sorted(sykkelturer, key=lambda x: x[\"duration\"], reverse=True)[:3]\n",
    "\n",
    "\n",
    "def presentere_top_3_info(sykkelturer):\n",
    "    top_3 = finn_top_3_lengste_turer(sykkelturer)\n",
    "    print(\"Top 3 lengste turer:\")\n",
    "    for bruker in top_3:\n",
    "        print(\"Startstasjon:\", bruker[\"start_station_name\"])\n",
    "        print(\"Endestasjon:\", bruker[\"end_station_name\"])\n",
    "        print(\"Varighet:\", bruker[\"duration\"])\n",
    "        \n",
    "        print()\n",
    "\n",
    "\n",
    "presentere_top_3_info(sykkelturer)"
   ]
  },
  {
   "cell_type": "code",
   "execution_count": 25,
   "metadata": {},
   "outputs": [
    {
     "name": "stdout",
     "output_type": "stream",
     "text": [
      "Top 3 lengste turer:\n",
      "Startstasjon: Brynseng T-bane\n",
      "Endestasjon: Kværnerbyen\n",
      "\n",
      "Startstasjon: Brynseng T-bane\n",
      "Endestasjon: Ensjø T-bane\n",
      "\n",
      "Startstasjon: Brynseng T-bane\n",
      "Endestasjon: Klingenberggata\n",
      "\n"
     ]
    }
   ],
   "source": [
    "# Oppgave 3\n",
    "\n",
    "def finn_top_3_lengste_turer(sykkelturer):\n",
    "    return sorted(sykkelturer, key=lambda x: x[\"start_station_longitude\"], reverse=True)[:3]\n",
    "\n",
    "\n",
    "def presentere_top_3_info(sykkelturer):\n",
    "    top_3 = finn_top_3_lengste_turer(sykkelturer)\n",
    "    print(\"Top 3 lengste turer:\")\n",
    "    for bruker in top_3:\n",
    "        print(\"Startstasjon:\", bruker[\"start_station_name\"])\n",
    "        print(\"Endestasjon:\", bruker[\"end_station_name\"])\n",
    "        \n",
    "        print()\n",
    "\n",
    "\n",
    "presentere_top_3_info(sykkelturer)"
   ]
  }
 ],
 "metadata": {
  "kernelspec": {
   "display_name": "Python 3.8.8 ('base')",
   "language": "python",
   "name": "python3"
  },
  "language_info": {
   "codemirror_mode": {
    "name": "ipython",
    "version": 3
   },
   "file_extension": ".py",
   "mimetype": "text/x-python",
   "name": "python",
   "nbconvert_exporter": "python",
   "pygments_lexer": "ipython3",
   "version": "3.8.8"
  },
  "orig_nbformat": 4,
  "vscode": {
   "interpreter": {
    "hash": "5ecbbed35457983b10cea6cb5f29896399aa2d19dc836c68fdc5865faadf66b5"
   }
  }
 },
 "nbformat": 4,
 "nbformat_minor": 2
}
